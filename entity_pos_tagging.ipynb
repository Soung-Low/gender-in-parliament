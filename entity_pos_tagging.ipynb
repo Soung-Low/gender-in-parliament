{
  "nbformat": 4,
  "nbformat_minor": 0,
  "metadata": {
    "colab": {
      "name": "entity_pos_tagging.ipynb",
      "provenance": [],
      "collapsed_sections": [
        "wxCIK6ztslEW"
      ]
    },
    "kernelspec": {
      "name": "python3",
      "display_name": "Python 3"
    },
    "language_info": {
      "name": "python"
    }
  },
  "cells": [
    {
      "cell_type": "code",
      "metadata": {
        "colab": {
          "base_uri": "https://localhost:8080/"
        },
        "id": "17jvivtHrjsp",
        "outputId": "10cdf360-bcaa-463f-db24-4f04616d3597"
      },
      "source": [
        "!pip install malaya"
      ],
      "execution_count": 4,
      "outputs": [
        {
          "output_type": "stream",
          "text": [
            "Collecting malaya\n",
            "\u001b[?25l  Downloading https://files.pythonhosted.org/packages/a6/6c/cabde4c86a5b0f7052bdcd76e6002d39f08865f64e2fc625ab6732dea8ab/malaya-4.2.2-py3-none-any.whl (2.2MB)\n",
            "\u001b[K     |████████████████████████████████| 2.2MB 5.3MB/s \n",
            "\u001b[?25hRequirement already satisfied: scipy in /usr/local/lib/python3.7/dist-packages (from malaya) (1.4.1)\n",
            "Collecting ftfy\n",
            "\u001b[?25l  Downloading https://files.pythonhosted.org/packages/ce/b5/5da463f9c7823e0e575e9908d004e2af4b36efa8d02d3d6dad57094fcb11/ftfy-6.0.1.tar.gz (63kB)\n",
            "\u001b[K     |████████████████████████████████| 71kB 8.1MB/s \n",
            "\u001b[?25hCollecting unidecode\n",
            "\u001b[?25l  Downloading https://files.pythonhosted.org/packages/9e/25/723487ca2a52ebcee88a34d7d1f5a4b80b793f179ee0f62d5371938dfa01/Unidecode-1.2.0-py2.py3-none-any.whl (241kB)\n",
            "\u001b[K     |████████████████████████████████| 245kB 26.9MB/s \n",
            "\u001b[?25hRequirement already satisfied: scikit-learn in /usr/local/lib/python3.7/dist-packages (from malaya) (0.22.2.post1)\n",
            "Requirement already satisfied: tqdm in /usr/local/lib/python3.7/dist-packages (from malaya) (4.41.1)\n",
            "Collecting dateparser\n",
            "\u001b[?25l  Downloading https://files.pythonhosted.org/packages/78/c4/b5ddc3eeac974d85055d88c1e6b62cc492fc1a93dbe3b66a45a756a7b807/dateparser-1.0.0-py2.py3-none-any.whl (279kB)\n",
            "\u001b[K     |████████████████████████████████| 286kB 31.9MB/s \n",
            "\u001b[?25hCollecting sentencepiece\n",
            "\u001b[?25l  Downloading https://files.pythonhosted.org/packages/f5/99/e0808cb947ba10f575839c43e8fafc9cc44e4a7a2c8f79c60db48220a577/sentencepiece-0.1.95-cp37-cp37m-manylinux2014_x86_64.whl (1.2MB)\n",
            "\u001b[K     |████████████████████████████████| 1.2MB 27.5MB/s \n",
            "\u001b[?25hRequirement already satisfied: networkx in /usr/local/lib/python3.7/dist-packages (from malaya) (2.5.1)\n",
            "Requirement already satisfied: tensorflow>=1.15 in /usr/local/lib/python3.7/dist-packages (from malaya) (2.4.1)\n",
            "Collecting herpetologist\n",
            "  Downloading https://files.pythonhosted.org/packages/83/58/8ad7d0ccd94e6810c08baf040f622e44807afafc5fdc20c58f4a0a774e01/herpetologist-0.0.9-py3-none-any.whl\n",
            "Requirement already satisfied: numpy in /usr/local/lib/python3.7/dist-packages (from malaya) (1.19.5)\n",
            "Requirement already satisfied: requests in /usr/local/lib/python3.7/dist-packages (from malaya) (2.23.0)\n",
            "Requirement already satisfied: wcwidth in /usr/local/lib/python3.7/dist-packages (from ftfy->malaya) (0.2.5)\n",
            "Requirement already satisfied: joblib>=0.11 in /usr/local/lib/python3.7/dist-packages (from scikit-learn->malaya) (1.0.1)\n",
            "Requirement already satisfied: regex!=2019.02.19 in /usr/local/lib/python3.7/dist-packages (from dateparser->malaya) (2019.12.20)\n",
            "Requirement already satisfied: pytz in /usr/local/lib/python3.7/dist-packages (from dateparser->malaya) (2018.9)\n",
            "Requirement already satisfied: tzlocal in /usr/local/lib/python3.7/dist-packages (from dateparser->malaya) (1.5.1)\n",
            "Requirement already satisfied: python-dateutil in /usr/local/lib/python3.7/dist-packages (from dateparser->malaya) (2.8.1)\n",
            "Requirement already satisfied: decorator<5,>=4.3 in /usr/local/lib/python3.7/dist-packages (from networkx->malaya) (4.4.2)\n",
            "Requirement already satisfied: wheel~=0.35 in /usr/local/lib/python3.7/dist-packages (from tensorflow>=1.15->malaya) (0.36.2)\n",
            "Requirement already satisfied: wrapt~=1.12.1 in /usr/local/lib/python3.7/dist-packages (from tensorflow>=1.15->malaya) (1.12.1)\n",
            "Requirement already satisfied: six~=1.15.0 in /usr/local/lib/python3.7/dist-packages (from tensorflow>=1.15->malaya) (1.15.0)\n",
            "Requirement already satisfied: gast==0.3.3 in /usr/local/lib/python3.7/dist-packages (from tensorflow>=1.15->malaya) (0.3.3)\n",
            "Requirement already satisfied: google-pasta~=0.2 in /usr/local/lib/python3.7/dist-packages (from tensorflow>=1.15->malaya) (0.2.0)\n",
            "Requirement already satisfied: tensorboard~=2.4 in /usr/local/lib/python3.7/dist-packages (from tensorflow>=1.15->malaya) (2.4.1)\n",
            "Requirement already satisfied: absl-py~=0.10 in /usr/local/lib/python3.7/dist-packages (from tensorflow>=1.15->malaya) (0.12.0)\n",
            "Requirement already satisfied: tensorflow-estimator<2.5.0,>=2.4.0 in /usr/local/lib/python3.7/dist-packages (from tensorflow>=1.15->malaya) (2.4.0)\n",
            "Requirement already satisfied: flatbuffers~=1.12.0 in /usr/local/lib/python3.7/dist-packages (from tensorflow>=1.15->malaya) (1.12)\n",
            "Requirement already satisfied: keras-preprocessing~=1.1.2 in /usr/local/lib/python3.7/dist-packages (from tensorflow>=1.15->malaya) (1.1.2)\n",
            "Requirement already satisfied: opt-einsum~=3.3.0 in /usr/local/lib/python3.7/dist-packages (from tensorflow>=1.15->malaya) (3.3.0)\n",
            "Requirement already satisfied: h5py~=2.10.0 in /usr/local/lib/python3.7/dist-packages (from tensorflow>=1.15->malaya) (2.10.0)\n",
            "Requirement already satisfied: protobuf>=3.9.2 in /usr/local/lib/python3.7/dist-packages (from tensorflow>=1.15->malaya) (3.12.4)\n",
            "Requirement already satisfied: termcolor~=1.1.0 in /usr/local/lib/python3.7/dist-packages (from tensorflow>=1.15->malaya) (1.1.0)\n",
            "Requirement already satisfied: astunparse~=1.6.3 in /usr/local/lib/python3.7/dist-packages (from tensorflow>=1.15->malaya) (1.6.3)\n",
            "Requirement already satisfied: grpcio~=1.32.0 in /usr/local/lib/python3.7/dist-packages (from tensorflow>=1.15->malaya) (1.32.0)\n",
            "Requirement already satisfied: typing-extensions~=3.7.4 in /usr/local/lib/python3.7/dist-packages (from tensorflow>=1.15->malaya) (3.7.4.3)\n",
            "Collecting memoization\n",
            "  Downloading https://files.pythonhosted.org/packages/16/87/37229296c2a9506867d5f5440b9aac015d97af54c951cdfc129bb4bb8d75/memoization-0.3.2-py3-none-any.whl\n",
            "Requirement already satisfied: certifi>=2017.4.17 in /usr/local/lib/python3.7/dist-packages (from requests->malaya) (2020.12.5)\n",
            "Requirement already satisfied: chardet<4,>=3.0.2 in /usr/local/lib/python3.7/dist-packages (from requests->malaya) (3.0.4)\n",
            "Requirement already satisfied: urllib3!=1.25.0,!=1.25.1,<1.26,>=1.21.1 in /usr/local/lib/python3.7/dist-packages (from requests->malaya) (1.24.3)\n",
            "Requirement already satisfied: idna<3,>=2.5 in /usr/local/lib/python3.7/dist-packages (from requests->malaya) (2.10)\n",
            "Requirement already satisfied: setuptools>=41.0.0 in /usr/local/lib/python3.7/dist-packages (from tensorboard~=2.4->tensorflow>=1.15->malaya) (56.0.0)\n",
            "Requirement already satisfied: google-auth-oauthlib<0.5,>=0.4.1 in /usr/local/lib/python3.7/dist-packages (from tensorboard~=2.4->tensorflow>=1.15->malaya) (0.4.4)\n",
            "Requirement already satisfied: google-auth<2,>=1.6.3 in /usr/local/lib/python3.7/dist-packages (from tensorboard~=2.4->tensorflow>=1.15->malaya) (1.28.1)\n",
            "Requirement already satisfied: markdown>=2.6.8 in /usr/local/lib/python3.7/dist-packages (from tensorboard~=2.4->tensorflow>=1.15->malaya) (3.3.4)\n",
            "Requirement already satisfied: werkzeug>=0.11.15 in /usr/local/lib/python3.7/dist-packages (from tensorboard~=2.4->tensorflow>=1.15->malaya) (1.0.1)\n",
            "Requirement already satisfied: tensorboard-plugin-wit>=1.6.0 in /usr/local/lib/python3.7/dist-packages (from tensorboard~=2.4->tensorflow>=1.15->malaya) (1.8.0)\n",
            "Requirement already satisfied: requests-oauthlib>=0.7.0 in /usr/local/lib/python3.7/dist-packages (from google-auth-oauthlib<0.5,>=0.4.1->tensorboard~=2.4->tensorflow>=1.15->malaya) (1.3.0)\n",
            "Requirement already satisfied: cachetools<5.0,>=2.0.0 in /usr/local/lib/python3.7/dist-packages (from google-auth<2,>=1.6.3->tensorboard~=2.4->tensorflow>=1.15->malaya) (4.2.1)\n",
            "Requirement already satisfied: rsa<5,>=3.1.4; python_version >= \"3.6\" in /usr/local/lib/python3.7/dist-packages (from google-auth<2,>=1.6.3->tensorboard~=2.4->tensorflow>=1.15->malaya) (4.7.2)\n",
            "Requirement already satisfied: pyasn1-modules>=0.2.1 in /usr/local/lib/python3.7/dist-packages (from google-auth<2,>=1.6.3->tensorboard~=2.4->tensorflow>=1.15->malaya) (0.2.8)\n",
            "Requirement already satisfied: importlib-metadata; python_version < \"3.8\" in /usr/local/lib/python3.7/dist-packages (from markdown>=2.6.8->tensorboard~=2.4->tensorflow>=1.15->malaya) (3.10.1)\n",
            "Requirement already satisfied: oauthlib>=3.0.0 in /usr/local/lib/python3.7/dist-packages (from requests-oauthlib>=0.7.0->google-auth-oauthlib<0.5,>=0.4.1->tensorboard~=2.4->tensorflow>=1.15->malaya) (3.1.0)\n",
            "Requirement already satisfied: pyasn1>=0.1.3 in /usr/local/lib/python3.7/dist-packages (from rsa<5,>=3.1.4; python_version >= \"3.6\"->google-auth<2,>=1.6.3->tensorboard~=2.4->tensorflow>=1.15->malaya) (0.4.8)\n",
            "Requirement already satisfied: zipp>=0.5 in /usr/local/lib/python3.7/dist-packages (from importlib-metadata; python_version < \"3.8\"->markdown>=2.6.8->tensorboard~=2.4->tensorflow>=1.15->malaya) (3.4.1)\n",
            "Building wheels for collected packages: ftfy\n",
            "  Building wheel for ftfy (setup.py) ... \u001b[?25l\u001b[?25hdone\n",
            "  Created wheel for ftfy: filename=ftfy-6.0.1-cp37-none-any.whl size=41573 sha256=248116aa32cd9c321bc33fbf203c10bc3feeda989c6a462987b7aa25cde75d12\n",
            "  Stored in directory: /root/.cache/pip/wheels/ae/73/c7/9056e14b04919e5c262fe80b54133b1a88d73683d05d7ac65c\n",
            "Successfully built ftfy\n",
            "Installing collected packages: ftfy, unidecode, dateparser, sentencepiece, memoization, herpetologist, malaya\n",
            "Successfully installed dateparser-1.0.0 ftfy-6.0.1 herpetologist-0.0.9 malaya-4.2.2 memoization-0.3.2 sentencepiece-0.1.95 unidecode-1.2.0\n"
          ],
          "name": "stdout"
        }
      ]
    },
    {
      "cell_type": "code",
      "metadata": {
        "colab": {
          "base_uri": "https://localhost:8080/"
        },
        "id": "RD1uyYGErstw",
        "outputId": "06d484b3-3b67-4838-8421-621be1534095"
      },
      "source": [
        "import malaya\n",
        "import os \n",
        "import collections\n",
        "import pickle\n",
        "import string\n",
        "import re"
      ],
      "execution_count": 2,
      "outputs": [
        {
          "output_type": "stream",
          "text": [
            "/usr/local/lib/python3.7/dist-packages/malaya/function/__init__.py:32: UserWarning: Cannot import beam_search_ops not available for Tensorflow 2, `deep_model` for stemmer will not available to use.\n",
            "  'Cannot import beam_search_ops not available for Tensorflow 2, `deep_model` for stemmer will not available to use.'\n"
          ],
          "name": "stderr"
        }
      ]
    },
    {
      "cell_type": "code",
      "metadata": {
        "colab": {
          "base_uri": "https://localhost:8080/"
        },
        "id": "qm47EchhtSQg",
        "outputId": "b3eb1f05-a883-4763-8984-bd0dabd1dc54"
      },
      "source": [
        "from google.colab import drive\n",
        "drive.mount('/content/drive', force_remount=True)"
      ],
      "execution_count": 6,
      "outputs": [
        {
          "output_type": "stream",
          "text": [
            "Mounted at /content/drive\n"
          ],
          "name": "stdout"
        }
      ]
    },
    {
      "cell_type": "markdown",
      "metadata": {
        "id": "IdgzJxIVtyzU"
      },
      "source": [
        "# Import data"
      ]
    },
    {
      "cell_type": "code",
      "metadata": {
        "id": "fcMCHR9Kt02v"
      },
      "source": [
        "os.chdir('/content/drive/MyDrive/data/pickle')"
      ],
      "execution_count": 3,
      "outputs": []
    },
    {
      "cell_type": "code",
      "metadata": {
        "colab": {
          "base_uri": "https://localhost:8080/"
        },
        "id": "y9Ii9UJqtz_W",
        "outputId": "a4eef744-03c1-482a-ca12-024bbbe12ae5"
      },
      "source": [
        "# Get a list of all hansards\n",
        "hansards_names = os.listdir()\n",
        "print(hansards_names)"
      ],
      "execution_count": 4,
      "outputs": [
        {
          "output_type": "stream",
          "text": [
            "['hansard_p12', 'hansard_p13', 'hansard_p14', 'hansard_p11', 'hansard_p10', 'hansard_p09', 'hansard_p08']\n"
          ],
          "name": "stdout"
        }
      ]
    },
    {
      "cell_type": "code",
      "metadata": {
        "colab": {
          "base_uri": "https://localhost:8080/"
        },
        "id": "nZqE7QOCuQhE",
        "outputId": "2ef68a4c-cf4c-4720-858c-3e2e8140b904"
      },
      "source": [
        "# Read data into a dict by year \n",
        "hansards_dict_by_year = {}\n",
        "\n",
        "for hansard in hansards_names:\n",
        "    data = pickle.load(open(hansard, 'rb'))\n",
        "    for doc in data:\n",
        "        key = re.search('\\d{8}', doc[0].replace(' ', '')).group(0)[-4:]\n",
        "        content = doc[1]\n",
        "        if key in hansards_dict_by_year:\n",
        "            hansards_dict_by_year[key].append(content)\n",
        "        else:\n",
        "            hansards_dict_by_year[key] = [content]\n",
        "            \n",
        "print(hansards_dict_by_year.keys())"
      ],
      "execution_count": 5,
      "outputs": [
        {
          "output_type": "stream",
          "text": [
            "dict_keys(['2010', '2008', '2009', '2012', '2011', '2014', '2015', '2013', '2017', '2016', '2018', '2019', '2020', '2006', '2004', '2007', '2005', '2002', '2000', '2003', '2001', '1999', '1995', '1996', '1997', '1998', '1991', '1993', '1994', '1992', '1990'])\n"
          ],
          "name": "stdout"
        }
      ]
    },
    {
      "cell_type": "code",
      "metadata": {
        "id": "cpy6jHLXux1y"
      },
      "source": [
        "hansards_dict_clean = {}\n",
        "\n",
        "for key, docs in hansards_dict_by_year.items():\n",
        "  for doc in docs:\n",
        "    if key in hansards_dict_clean:\n",
        "      hansards_dict_clean[key].append(doc.replace('\\n', ' ').replace('  ', ' '))\n",
        "    else:\n",
        "      hansards_dict_clean[key] = [doc.replace('\\n', ' ').replace('  ', ' ')]"
      ],
      "execution_count": 6,
      "outputs": []
    },
    {
      "cell_type": "code",
      "metadata": {
        "colab": {
          "base_uri": "https://localhost:8080/"
        },
        "id": "lO44cLsbvzbP",
        "outputId": "2eddba66-51a0-4736-aee8-ae1c74f74a09"
      },
      "source": [
        "od = collections.OrderedDict(sorted(hansards_dict_clean.items()))\n",
        "\n",
        "for key, value in od.items():\n",
        "    print(key, len(value))"
      ],
      "execution_count": 11,
      "outputs": [
        {
          "output_type": "stream",
          "text": [
            "1990 15\n",
            "1991 96\n",
            "1992 65\n",
            "1993 72\n",
            "1994 67\n",
            "1995 66\n",
            "1996 87\n",
            "1997 85\n",
            "1998 71\n",
            "1999 49\n",
            "2000 83\n",
            "2001 77\n",
            "2002 61\n",
            "2003 67\n",
            "2004 68\n",
            "2005 78\n",
            "2006 91\n",
            "2007 85\n",
            "2008 79\n",
            "2009 71\n",
            "2010 84\n",
            "2011 63\n",
            "2012 70\n",
            "2013 51\n",
            "2014 57\n",
            "2015 61\n",
            "2016 55\n",
            "2017 57\n",
            "2018 70\n",
            "2019 68\n",
            "2020 55\n"
          ],
          "name": "stdout"
        }
      ]
    },
    {
      "cell_type": "markdown",
      "metadata": {
        "id": "wxCIK6ztslEW"
      },
      "source": [
        "# Entity Recognition"
      ]
    },
    {
      "cell_type": "code",
      "metadata": {
        "id": "JrI6UjMZsE2h"
      },
      "source": [
        "string = '''Saya pun tidak faham dia cakap. Tetapi saya Hokkien. Sekarang ini saya tengok pelancong daripada Arab datang dia bawa anak dia semua, takkan dia mahu bawa anak dia yang kecil-kecil masuk disko. Pelancong pun kalau hendakkan hiburan di negara mereka pun hiburan mereka lebih lagi. Macam mana hiburan\n",
        "dia hendak pun ada, naik atas meja, naik atas kerusi pun ada hiburan depa. Di\n",
        "Malaysia ini pelancong mai, maksud saya ada pusat hiburan yang dia boleh\n",
        "pergi ke pub, dia boleh pergi di karaoke, hiburanlah. Bukan maksud saya\n",
        "hiburan keterlaluan sampai tidak ada batasan dan malu kita Tuan Yang di-\n",
        "Pertua kalau anak-anak muda, anak-anak Malaysia kita, anak-anak perempuan\n",
        "kita ini tahu-tahu pi jadi pelacur, jadi GRO, pelancongpelancong bawa budakbudak\n",
        "Malaysia berjalan. Malu Tuan Yang di-Pertua. Kita tengok malu. Anakanak\n",
        "kita mahu orang Mat Saleh atau orang Negro, mai pegang berjalan. Kita\n",
        "tengok, Seputeh, tak malu kah? Sekarang you jalan sama orang Negro, you ada\n",
        "malu kah?... [Ketawa] [Dewan riuh dengan ketawa] Kita pun takut ho...!'''"
      ],
      "execution_count": 19,
      "outputs": []
    },
    {
      "cell_type": "code",
      "metadata": {
        "colab": {
          "base_uri": "https://localhost:8080/"
        },
        "id": "vq45XkRdspdu",
        "outputId": "20c2c05d-2901-4c46-a445-56c761d9576b"
      },
      "source": [
        "model = malaya.entity.transformer_ontonotes5(model = 'tiny-albert')"
      ],
      "execution_count": 15,
      "outputs": [
        {
          "output_type": "stream",
          "text": [
            "downloading frozen model to /root/Malaya/entity-ontonotes5/tiny-albert/model.pb\n"
          ],
          "name": "stdout"
        },
        {
          "output_type": "stream",
          "text": [
            "23.0MB [00:00, 30.5MB/s]                          \n"
          ],
          "name": "stderr"
        },
        {
          "output_type": "stream",
          "text": [
            "downloading frozen vocab to /root/Malaya/entity-ontonotes5/tiny-albert/sp10m.cased.v10.vocab\n"
          ],
          "name": "stdout"
        },
        {
          "output_type": "stream",
          "text": [
            "  0%|          | 0.00/0.54 [00:00<?, ?MB/s]/usr/local/lib/python3.7/dist-packages/tqdm/std.py:484: TqdmWarning: clamping frac to range [0, 1]\n",
            "  charset=Bar.ASCII if ascii is True else ascii or Bar.UTF)\n",
            "184%|██████████| 1.00/0.54 [00:00<00:00, 5.43MB/s]\n"
          ],
          "name": "stderr"
        },
        {
          "output_type": "stream",
          "text": [
            "downloading frozen tokenizer to /root/Malaya/entity-ontonotes5/tiny-albert/sp10m.cased.v10.model\n"
          ],
          "name": "stdout"
        },
        {
          "output_type": "stream",
          "text": [
            "135%|██████████| 1.00/0.74 [00:00<00:00, 4.31MB/s]\n"
          ],
          "name": "stderr"
        },
        {
          "output_type": "stream",
          "text": [
            "downloading frozen setting to /root/Malaya/entity-ontonotes5/tiny-albert/entities-ontonotes5.json\n"
          ],
          "name": "stdout"
        },
        {
          "output_type": "stream",
          "text": [
            "1.00MB [00:00, 189MB/s]                    \n"
          ],
          "name": "stderr"
        }
      ]
    },
    {
      "cell_type": "code",
      "metadata": {
        "id": "7G49bl26sFHb"
      },
      "source": [
        "model.predict(string)\n",
        "#model.predict(hansards_dict_clean['2020'][0][5000:6000])"
      ],
      "execution_count": null,
      "outputs": []
    },
    {
      "cell_type": "markdown",
      "metadata": {
        "id": "i9SQQ6e0stOH"
      },
      "source": [
        "# POS tagging"
      ]
    },
    {
      "cell_type": "code",
      "metadata": {
        "id": "kRqRe6qLsswv"
      },
      "source": [
        "model = malaya.pos.transformer(model = 'tiny-albert')"
      ],
      "execution_count": 7,
      "outputs": []
    },
    {
      "cell_type": "code",
      "metadata": {
        "colab": {
          "base_uri": "https://localhost:8080/"
        },
        "id": "YocJ1GFJssFn",
        "outputId": "4a6616b2-2353-463a-95c9-1c7a221f1b9f"
      },
      "source": [
        "adj_dict = {}\n",
        "\n",
        "for year, docs in hansards_dict_clean.items():\n",
        "  adj_year = []\n",
        "  print(year)\n",
        "  for doc in docs:\n",
        "    total = len(doc)\n",
        "    for i in range(0, total, 1000): # predict using a 1000-words interval due to model limits \n",
        "      try:\n",
        "        adj = [i[i[1]=='ADJ'] for i in model.predict(doc[i:i+1000])]\n",
        "        adj_year.extend(adj)\n",
        "      except:\n",
        "        continue\n",
        "  \n",
        "  adj_dict[year] = adj_year"
      ],
      "execution_count": null,
      "outputs": [
        {
          "output_type": "stream",
          "text": [
            "1991\n",
            "1993\n"
          ],
          "name": "stdout"
        }
      ]
    },
    {
      "cell_type": "code",
      "metadata": {
        "colab": {
          "base_uri": "https://localhost:8080/",
          "height": 162
        },
        "id": "s_fmXhit09Sl",
        "outputId": "058accac-862a-4888-fd6f-0cdd9d357f36"
      },
      "source": [
        "print(adj_dict.keys())"
      ],
      "execution_count": 1,
      "outputs": [
        {
          "output_type": "error",
          "ename": "NameError",
          "evalue": "ignored",
          "traceback": [
            "\u001b[0;31m---------------------------------------------------------------------------\u001b[0m",
            "\u001b[0;31mNameError\u001b[0m                                 Traceback (most recent call last)",
            "\u001b[0;32m<ipython-input-1-32cd6578f91f>\u001b[0m in \u001b[0;36m<module>\u001b[0;34m()\u001b[0m\n\u001b[0;32m----> 1\u001b[0;31m \u001b[0mprint\u001b[0m\u001b[0;34m(\u001b[0m\u001b[0madj_dict\u001b[0m\u001b[0;34m.\u001b[0m\u001b[0mkeys\u001b[0m\u001b[0;34m(\u001b[0m\u001b[0;34m)\u001b[0m\u001b[0;34m)\u001b[0m\u001b[0;34m\u001b[0m\u001b[0;34m\u001b[0m\u001b[0m\n\u001b[0m",
            "\u001b[0;31mNameError\u001b[0m: name 'adj_dict' is not defined"
          ]
        }
      ]
    },
    {
      "cell_type": "code",
      "metadata": {
        "id": "5-Pq4JyqJI6t"
      },
      "source": [
        "# for year, docs in hansards_dict_clean.items():\n",
        "#   adj_year = []\n",
        "#   print(year)\n",
        "#   for doc in docs:\n",
        "#     total = len(doc)\n",
        "\n",
        "adj_set = []\n",
        "year = '2001'\n",
        "\n",
        "for doc in hansards_dict_clean[year]:\n",
        "  total = len(doc)\n",
        "  for i in range(0, total, 1000): # predict using a 1000-words interval due to model limits \n",
        "    try:\n",
        "      adj = [i[0] for i in model.predict(doc[i:i+1000]) if i[1] == 'ADJ']\n",
        "      adj_set.extend(adj)\n",
        "    except:\n",
        "      continue"
      ],
      "execution_count": 50,
      "outputs": []
    },
    {
      "cell_type": "code",
      "metadata": {
        "colab": {
          "base_uri": "https://localhost:8080/"
        },
        "id": "xGQS6DHCLzp_",
        "outputId": "57d97e5c-8d96-4c83-fb21-e93e247f32ba"
      },
      "source": [
        "adj_set = set(adj_set)\n",
        "len(adj_set)"
      ],
      "execution_count": 51,
      "outputs": [
        {
          "output_type": "execute_result",
          "data": {
            "text/plain": [
              "14783"
            ]
          },
          "metadata": {
            "tags": []
          },
          "execution_count": 51
        }
      ]
    },
    {
      "cell_type": "code",
      "metadata": {
        "id": "0M53hZsRO4Xg"
      },
      "source": [
        "# Save models \n",
        "pickle.dump(adj_set, open('../adj/adj_' + year, 'wb'))"
      ],
      "execution_count": 52,
      "outputs": []
    }
  ]
}