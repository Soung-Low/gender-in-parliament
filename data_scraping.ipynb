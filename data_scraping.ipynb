{
 "cells": [
  {
   "cell_type": "code",
   "execution_count": 1,
   "id": "declared-accessory",
   "metadata": {
    "ExecuteTime": {
     "end_time": "2021-05-02T19:29:41.805195Z",
     "start_time": "2021-05-02T19:29:41.731100Z"
    }
   },
   "outputs": [],
   "source": [
    "from selenium import webdriver\n",
    "from selenium.webdriver import ActionChains\n",
    "from selenium.webdriver.common.keys import Keys"
   ]
  },
  {
   "cell_type": "markdown",
   "id": "individual-foundation",
   "metadata": {},
   "source": [
    "# Scrape parliament by parliament"
   ]
  },
  {
   "cell_type": "code",
   "execution_count": 2,
   "id": "cubic-warren",
   "metadata": {
    "ExecuteTime": {
     "end_time": "2021-05-02T19:29:48.756736Z",
     "start_time": "2021-05-02T19:29:42.731169Z"
    }
   },
   "outputs": [],
   "source": [
    "options = webdriver.ChromeOptions()\n",
    "options.add_experimental_option('prefs', {\n",
    "\"download.default_directory\": 'C:\\\\Users\\\\user\\\\Dropbox\\\\0_MY459_Quantitative Text Analysis\\\\03_Final Project\\\\data\\\\p07', #Change default directory for downloads\n",
    "\"download.prompt_for_download\": False, #To auto download the file\n",
    "\"download.directory_upgrade\": True,\n",
    "\"plugins.always_open_pdf_externally\": True #It will not show PDF directly in chrome\n",
    "})\n",
    "\n",
    "# Open a browser and go to the site\n",
    "driver = webdriver.Chrome(options=options)\n",
    "driver.get(\"https://www.parlimen.gov.my/hansard-dewan-rakyat.html?uweb=dr&arkib=yes\")"
   ]
  },
  {
   "cell_type": "code",
   "execution_count": 7,
   "id": "ultimate-guarantee",
   "metadata": {
    "ExecuteTime": {
     "end_time": "2021-05-02T19:53:17.571545Z",
     "start_time": "2021-05-02T19:53:14.261274Z"
    },
    "code_folding": []
   },
   "outputs": [],
   "source": [
    "par = 9 # The parliament to be scraped \n",
    "\n",
    "# Click on the parliament to expand options \n",
    "element = driver.find_element_by_xpath('//*[@id=\"treeboxbox_tree\"]/div/table/tbody/tr[' + \n",
    "                                       str(par) + ']/td[2]/table/tbody/tr[1]/td[4]/span')\n",
    "action = ActionChains(driver).click(element)\n",
    "action.pause(3)\n",
    "action.perform()"
   ]
  },
  {
   "cell_type": "code",
   "execution_count": 5,
   "id": "revised-science",
   "metadata": {
    "ExecuteTime": {
     "end_time": "2021-05-02T19:48:16.063681Z",
     "start_time": "2021-05-02T19:30:06.072163Z"
    }
   },
   "outputs": [
    {
     "name": "stdout",
     "output_type": "stream",
     "text": [
      "clicked term 1\n",
      "clicked meeting 1\n",
      "44\n",
      "clicked day 1\n",
      "clicked day 2\n",
      "clicked day 3\n",
      "clicked day 4\n",
      "clicked day 5\n",
      "clicked day 6\n",
      "clicked day 7\n",
      "clicked day 8\n",
      "clicked day 9\n",
      "clicked day 10\n",
      "clicked day 11\n",
      "clicked day 12\n",
      "clicked day 13\n",
      "clicked day 14\n",
      "clicked day 15\n",
      "clicked day 16\n",
      "clicked day 17\n",
      "clicked day 18\n",
      "clicked day 19\n",
      "clicked day 20\n",
      "clicked day 21\n",
      "clicked day 22\n",
      "clicked day 23\n",
      "clicked day 24\n",
      "clicked day 25\n",
      "clicked day 26\n",
      "clicked day 27\n",
      "clicked day 28\n",
      "clicked day 29\n",
      "clicked day 30\n",
      "clicked day 31\n",
      "clicked day 32\n",
      "clicked day 33\n",
      "clicked day 34\n",
      "clicked day 35\n",
      "clicked day 36\n",
      "clicked day 37\n",
      "clicked day 38\n",
      "clicked day 39\n",
      "clicked day 40\n",
      "clicked day 41\n",
      "clicked day 42\n",
      "clicked day 43\n",
      "clicked day 44\n",
      "clicked meeting 2\n",
      "20\n",
      "clicked day 1\n",
      "clicked day 2\n",
      "clicked day 3\n",
      "clicked day 4\n",
      "clicked day 5\n",
      "clicked day 6\n",
      "clicked day 7\n",
      "clicked day 8\n",
      "clicked day 9\n",
      "clicked day 10\n",
      "clicked day 11\n",
      "clicked day 12\n",
      "clicked day 13\n",
      "clicked day 14\n",
      "clicked day 15\n",
      "clicked day 16\n",
      "clicked day 17\n",
      "clicked day 18\n",
      "clicked day 19\n",
      "clicked day 20\n",
      "clicked meeting 3\n",
      "39\n",
      "clicked day 1\n",
      "clicked day 2\n",
      "clicked day 3\n",
      "clicked day 4\n",
      "clicked day 5\n",
      "clicked day 6\n",
      "clicked day 7\n",
      "clicked day 8\n",
      "clicked day 9\n",
      "clicked day 10\n",
      "clicked day 11\n",
      "clicked day 12\n",
      "clicked day 13\n",
      "clicked day 14\n",
      "clicked day 15\n",
      "clicked day 16\n",
      "clicked day 17\n",
      "clicked day 18\n",
      "clicked day 19\n",
      "clicked day 20\n",
      "clicked day 21\n",
      "clicked day 22\n",
      "clicked day 23\n",
      "clicked day 24\n",
      "clicked day 25\n",
      "clicked day 26\n",
      "clicked day 27\n",
      "clicked day 28\n",
      "clicked day 29\n",
      "clicked day 30\n",
      "clicked day 31\n",
      "clicked day 32\n",
      "clicked day 33\n",
      "clicked day 34\n",
      "clicked day 35\n",
      "clicked day 36\n",
      "clicked day 37\n",
      "clicked day 38\n",
      "clicked day 39\n",
      "clicked term 2\n"
     ]
    },
    {
     "ename": "UnexpectedAlertPresentException",
     "evalue": "Alert Text: Error type: DataStructure\nDescription: XML refers to not existing parent\nMessage: unexpected alert open: {Alert text : Error type: DataStructure\nDescription: XML refers to not existing parent}\n  (Session info: chrome=90.0.4430.93)\n",
     "output_type": "error",
     "traceback": [
      "\u001b[1;31m---------------------------------------------------------------------------\u001b[0m",
      "\u001b[1;31mUnexpectedAlertPresentException\u001b[0m           Traceback (most recent call last)",
      "\u001b[1;32m<ipython-input-5-9ca57f8a0557>\u001b[0m in \u001b[0;36m<module>\u001b[1;34m\u001b[0m\n\u001b[0;32m     12\u001b[0m     \u001b[0mprint\u001b[0m\u001b[1;33m(\u001b[0m\u001b[1;34m'clicked term '\u001b[0m \u001b[1;33m+\u001b[0m \u001b[0mstr\u001b[0m\u001b[1;33m(\u001b[0m\u001b[0mterm\u001b[0m\u001b[1;33m-\u001b[0m\u001b[1;36m1\u001b[0m\u001b[1;33m)\u001b[0m\u001b[1;33m)\u001b[0m\u001b[1;33m\u001b[0m\u001b[1;33m\u001b[0m\u001b[0m\n\u001b[0;32m     13\u001b[0m \u001b[1;33m\u001b[0m\u001b[0m\n\u001b[1;32m---> 14\u001b[1;33m     meetings = driver.find_elements_by_xpath(root_xpath + str(par) + ']/td[2]/table/tbody/tr[' + \n\u001b[0m\u001b[0;32m     15\u001b[0m                                              str(term) + ']/td[2]/table/tbody/tr')\n\u001b[0;32m     16\u001b[0m \u001b[1;33m\u001b[0m\u001b[0m\n",
      "\u001b[1;32mD:\\Anaconda\\lib\\site-packages\\selenium\\webdriver\\remote\\webdriver.py\u001b[0m in \u001b[0;36mfind_elements_by_xpath\u001b[1;34m(self, xpath)\u001b[0m\n\u001b[0;32m    408\u001b[0m             \u001b[0melements\u001b[0m \u001b[1;33m=\u001b[0m \u001b[0mdriver\u001b[0m\u001b[1;33m.\u001b[0m\u001b[0mfind_elements_by_xpath\u001b[0m\u001b[1;33m(\u001b[0m\u001b[1;34m\"//div[contains(@class, 'foo')]\"\u001b[0m\u001b[1;33m)\u001b[0m\u001b[1;33m\u001b[0m\u001b[1;33m\u001b[0m\u001b[0m\n\u001b[0;32m    409\u001b[0m         \"\"\"\n\u001b[1;32m--> 410\u001b[1;33m         \u001b[1;32mreturn\u001b[0m \u001b[0mself\u001b[0m\u001b[1;33m.\u001b[0m\u001b[0mfind_elements\u001b[0m\u001b[1;33m(\u001b[0m\u001b[0mby\u001b[0m\u001b[1;33m=\u001b[0m\u001b[0mBy\u001b[0m\u001b[1;33m.\u001b[0m\u001b[0mXPATH\u001b[0m\u001b[1;33m,\u001b[0m \u001b[0mvalue\u001b[0m\u001b[1;33m=\u001b[0m\u001b[0mxpath\u001b[0m\u001b[1;33m)\u001b[0m\u001b[1;33m\u001b[0m\u001b[1;33m\u001b[0m\u001b[0m\n\u001b[0m\u001b[0;32m    411\u001b[0m \u001b[1;33m\u001b[0m\u001b[0m\n\u001b[0;32m    412\u001b[0m     \u001b[1;32mdef\u001b[0m \u001b[0mfind_element_by_link_text\u001b[0m\u001b[1;33m(\u001b[0m\u001b[0mself\u001b[0m\u001b[1;33m,\u001b[0m \u001b[0mlink_text\u001b[0m\u001b[1;33m)\u001b[0m\u001b[1;33m:\u001b[0m\u001b[1;33m\u001b[0m\u001b[1;33m\u001b[0m\u001b[0m\n",
      "\u001b[1;32mD:\\Anaconda\\lib\\site-packages\\selenium\\webdriver\\remote\\webdriver.py\u001b[0m in \u001b[0;36mfind_elements\u001b[1;34m(self, by, value)\u001b[0m\n\u001b[0;32m   1003\u001b[0m         \u001b[1;31m# Return empty list if driver returns null\u001b[0m\u001b[1;33m\u001b[0m\u001b[1;33m\u001b[0m\u001b[1;33m\u001b[0m\u001b[0m\n\u001b[0;32m   1004\u001b[0m         \u001b[1;31m# See https://github.com/SeleniumHQ/selenium/issues/4555\u001b[0m\u001b[1;33m\u001b[0m\u001b[1;33m\u001b[0m\u001b[1;33m\u001b[0m\u001b[0m\n\u001b[1;32m-> 1005\u001b[1;33m         return self.execute(Command.FIND_ELEMENTS, {\n\u001b[0m\u001b[0;32m   1006\u001b[0m             \u001b[1;34m'using'\u001b[0m\u001b[1;33m:\u001b[0m \u001b[0mby\u001b[0m\u001b[1;33m,\u001b[0m\u001b[1;33m\u001b[0m\u001b[1;33m\u001b[0m\u001b[0m\n\u001b[0;32m   1007\u001b[0m             'value': value})['value'] or []\n",
      "\u001b[1;32mD:\\Anaconda\\lib\\site-packages\\selenium\\webdriver\\remote\\webdriver.py\u001b[0m in \u001b[0;36mexecute\u001b[1;34m(self, driver_command, params)\u001b[0m\n\u001b[0;32m    319\u001b[0m         \u001b[0mresponse\u001b[0m \u001b[1;33m=\u001b[0m \u001b[0mself\u001b[0m\u001b[1;33m.\u001b[0m\u001b[0mcommand_executor\u001b[0m\u001b[1;33m.\u001b[0m\u001b[0mexecute\u001b[0m\u001b[1;33m(\u001b[0m\u001b[0mdriver_command\u001b[0m\u001b[1;33m,\u001b[0m \u001b[0mparams\u001b[0m\u001b[1;33m)\u001b[0m\u001b[1;33m\u001b[0m\u001b[1;33m\u001b[0m\u001b[0m\n\u001b[0;32m    320\u001b[0m         \u001b[1;32mif\u001b[0m \u001b[0mresponse\u001b[0m\u001b[1;33m:\u001b[0m\u001b[1;33m\u001b[0m\u001b[1;33m\u001b[0m\u001b[0m\n\u001b[1;32m--> 321\u001b[1;33m             \u001b[0mself\u001b[0m\u001b[1;33m.\u001b[0m\u001b[0merror_handler\u001b[0m\u001b[1;33m.\u001b[0m\u001b[0mcheck_response\u001b[0m\u001b[1;33m(\u001b[0m\u001b[0mresponse\u001b[0m\u001b[1;33m)\u001b[0m\u001b[1;33m\u001b[0m\u001b[1;33m\u001b[0m\u001b[0m\n\u001b[0m\u001b[0;32m    322\u001b[0m             response['value'] = self._unwrap_value(\n\u001b[0;32m    323\u001b[0m                 response.get('value', None))\n",
      "\u001b[1;32mD:\\Anaconda\\lib\\site-packages\\selenium\\webdriver\\remote\\errorhandler.py\u001b[0m in \u001b[0;36mcheck_response\u001b[1;34m(self, response)\u001b[0m\n\u001b[0;32m    239\u001b[0m             \u001b[1;32melif\u001b[0m \u001b[1;34m'alert'\u001b[0m \u001b[1;32min\u001b[0m \u001b[0mvalue\u001b[0m\u001b[1;33m:\u001b[0m\u001b[1;33m\u001b[0m\u001b[1;33m\u001b[0m\u001b[0m\n\u001b[0;32m    240\u001b[0m                 \u001b[0malert_text\u001b[0m \u001b[1;33m=\u001b[0m \u001b[0mvalue\u001b[0m\u001b[1;33m[\u001b[0m\u001b[1;34m'alert'\u001b[0m\u001b[1;33m]\u001b[0m\u001b[1;33m.\u001b[0m\u001b[0mget\u001b[0m\u001b[1;33m(\u001b[0m\u001b[1;34m'text'\u001b[0m\u001b[1;33m)\u001b[0m\u001b[1;33m\u001b[0m\u001b[1;33m\u001b[0m\u001b[0m\n\u001b[1;32m--> 241\u001b[1;33m             \u001b[1;32mraise\u001b[0m \u001b[0mexception_class\u001b[0m\u001b[1;33m(\u001b[0m\u001b[0mmessage\u001b[0m\u001b[1;33m,\u001b[0m \u001b[0mscreen\u001b[0m\u001b[1;33m,\u001b[0m \u001b[0mstacktrace\u001b[0m\u001b[1;33m,\u001b[0m \u001b[0malert_text\u001b[0m\u001b[1;33m)\u001b[0m\u001b[1;33m\u001b[0m\u001b[1;33m\u001b[0m\u001b[0m\n\u001b[0m\u001b[0;32m    242\u001b[0m         \u001b[1;32mraise\u001b[0m \u001b[0mexception_class\u001b[0m\u001b[1;33m(\u001b[0m\u001b[0mmessage\u001b[0m\u001b[1;33m,\u001b[0m \u001b[0mscreen\u001b[0m\u001b[1;33m,\u001b[0m \u001b[0mstacktrace\u001b[0m\u001b[1;33m)\u001b[0m\u001b[1;33m\u001b[0m\u001b[1;33m\u001b[0m\u001b[0m\n\u001b[0;32m    243\u001b[0m \u001b[1;33m\u001b[0m\u001b[0m\n",
      "\u001b[1;31mUnexpectedAlertPresentException\u001b[0m: Alert Text: Error type: DataStructure\nDescription: XML refers to not existing parent\nMessage: unexpected alert open: {Alert text : Error type: DataStructure\nDescription: XML refers to not existing parent}\n  (Session info: chrome=90.0.4430.93)\n"
     ]
    }
   ],
   "source": [
    "root_xpath = '//*[@id=\"treeboxbox_tree\"]/div/table/tbody/tr['\n",
    "\n",
    "# Get the number of terms for the parliaments \n",
    "terms = driver.find_elements_by_xpath(root_xpath + str(par) + ']/td[2]/table/tbody/tr')  \n",
    "total = 0\n",
    "\n",
    "for term in range(2, len(terms)+1):\n",
    "    # Click on the terms to expand options  \n",
    "    element = driver.find_element_by_xpath(root_xpath + str(par) + ']/td[2]/table/tbody/tr[' + \n",
    "                                           str(term) + ']/td[2]/table/tbody/tr[1]/td[4]/span')\n",
    "    action = ActionChains(driver).click(element)\n",
    "    action.pause(3)\n",
    "    action.perform()\n",
    "    print('clicked term ' + str(term-1))\n",
    "    \n",
    "    # Get the number of meetings in each term\n",
    "    meetings = driver.find_elements_by_xpath(root_xpath + str(par) + ']/td[2]/table/tbody/tr[' + \n",
    "                                             str(term) + ']/td[2]/table/tbody/tr')\n",
    "    \n",
    "    for meeting in range(2, len(meetings)+1):\n",
    "        # Click on the meeting to expand options \n",
    "        element = driver.find_element_by_xpath(root_xpath + str(par) + ']/td[2]/table/tbody/tr[' + \n",
    "                                               str(term) + ']/td[2]/table/tbody/tr[' + \n",
    "                                               str(meeting) + ']/td[2]/table/tbody/tr/td[4]/span')\n",
    "        action = ActionChains(driver).click(element)\n",
    "        action.pause(5)\n",
    "        action.perform()\n",
    "        print('clicked meeting ' + str(meeting-1))\n",
    "        \n",
    "        # Get the number of days in each meeting \n",
    "        days = driver.find_elements_by_xpath(root_xpath + str(par) + ']/td[2]/table/tbody/tr[' +\n",
    "                                             str(term) + ']/td[2]/table/tbody/tr[' + \n",
    "                                             str(meeting) + ']/td[2]/table/tbody/tr')\n",
    "        print(len(days)-1)\n",
    "        total += len(days)-1\n",
    "        \n",
    "        for day in range(2, len(days)+1):\n",
    "            # Click on each day to download the meeting minute\n",
    "            element = driver.find_element_by_xpath(root_xpath + str(par) + ']/td[2]/table/tbody/tr[' + \n",
    "                                                   str(term) + ']/td[2]/table/tbody/tr[' + \n",
    "                                                   str(meeting) + ']/td[2]/table/tbody/tr[' + \n",
    "                                                   str(day) + ']/td[2]/table/tbody/tr/td[4]/span')\n",
    "            \n",
    "            action = ActionChains(driver).click(element)\n",
    "            action.pause(10)\n",
    "            action.perform()\n",
    "            print('clicked day ' + str(day-1))\n",
    "            \n",
    "            # Close pop up window after download \n",
    "            driver.switch_to.window(driver.window_handles[1])\n",
    "            driver.close() \n",
    "            driver.switch_to.window(driver.window_handles[0]) \n",
    "\n",
    "print(total)"
   ]
  },
  {
   "cell_type": "markdown",
   "id": "executed-electron",
   "metadata": {},
   "source": [
    "# Validate the number of files for each parliament"
   ]
  },
  {
   "cell_type": "code",
   "execution_count": 37,
   "id": "decimal-exhibition",
   "metadata": {
    "ExecuteTime": {
     "end_time": "2021-05-02T18:53:46.779543Z",
     "start_time": "2021-05-02T18:53:38.858985Z"
    }
   },
   "outputs": [],
   "source": [
    "options = webdriver.ChromeOptions()\n",
    "options.add_experimental_option('prefs', {\n",
    "\"download.default_directory\": 'C:\\\\Users\\\\user\\\\Dropbox\\\\0_MY459_Quantitative Text Analysis\\\\03_Final Project\\\\data\\\\p08', #Change default directory for downloads\n",
    "\"download.prompt_for_download\": False, # To auto download the file\n",
    "\"download.directory_upgrade\": True,\n",
    "\"plugins.always_open_pdf_externally\": True # It will not show PDF directly in chrome\n",
    "})\n",
    "\n",
    "# Open a browser and go to the site\n",
    "driver = webdriver.Chrome(options=options)\n",
    "driver.get(\"https://www.parlimen.gov.my/hansard-dewan-rakyat.html?uweb=dr&arkib=yes\")"
   ]
  },
  {
   "cell_type": "code",
   "execution_count": 38,
   "id": "isolated-flower",
   "metadata": {
    "ExecuteTime": {
     "end_time": "2021-05-02T18:53:51.514241Z",
     "start_time": "2021-05-02T18:53:47.887063Z"
    }
   },
   "outputs": [],
   "source": [
    "par = 8\n",
    "element = driver.find_element_by_xpath('//*[@id=\"treeboxbox_tree\"]/div/table/tbody/tr[' + \n",
    "                                       str(par) + ']/td[2]/table/tbody/tr[1]/td[4]/span')\n",
    "action = ActionChains(driver).click(element)\n",
    "action.pause(3)\n",
    "action.perform()"
   ]
  },
  {
   "cell_type": "code",
   "execution_count": 39,
   "id": "gorgeous-fraud",
   "metadata": {
    "ExecuteTime": {
     "end_time": "2021-05-02T18:54:52.205665Z",
     "start_time": "2021-05-02T18:53:53.464301Z"
    },
    "scrolled": true
   },
   "outputs": [
    {
     "name": "stdout",
     "output_type": "stream",
     "text": [
      "clicked term 1\n",
      "clicked meeting 1\n",
      "15\n",
      "clicked meeting 2\n",
      "97\n",
      "clicked term 2\n",
      "clicked meeting 1\n",
      "67\n",
      "clicked meeting 2\n",
      "31\n",
      "clicked term 3\n",
      "clicked meeting 1\n",
      "41\n",
      "clicked term 4\n",
      "clicked meeting 1\n",
      "67\n",
      "318\n"
     ]
    }
   ],
   "source": [
    "root_xpath = '//*[@id=\"treeboxbox_tree\"]/div/table/tbody/tr['\n",
    "\n",
    "terms = driver.find_elements_by_xpath(root_xpath + str(par) + ']/td[2]/table/tbody/tr')  \n",
    "total = 0\n",
    "\n",
    "for term in range(2, len(terms)+1):\n",
    "    element = driver.find_element_by_xpath(root_xpath + str(par) + ']/td[2]/table/tbody/tr[' + \n",
    "                                           str(term) + ']/td[2]/table/tbody/tr[1]/td[4]/span')\n",
    "    action = ActionChains(driver).click(element)\n",
    "    action.pause(5)\n",
    "    action.perform()\n",
    "    print('clicked term ' + str(term-1))\n",
    "    \n",
    "    meetings = driver.find_elements_by_xpath(root_xpath + str(par) + ']/td[2]/table/tbody/tr[' + \n",
    "                                             str(term) + ']/td[2]/table/tbody/tr')\n",
    "    \n",
    "    for meeting in range(2, len(meetings)+1):\n",
    "        element = driver.find_element_by_xpath(root_xpath + str(par) + ']/td[2]/table/tbody/tr[' + \n",
    "                                               str(term) + ']/td[2]/table/tbody/tr[' + \n",
    "                                               str(meeting) + ']/td[2]/table/tbody/tr/td[4]/span')\n",
    "        action = ActionChains(driver).click(element)\n",
    "        action.pause(5)\n",
    "        action.perform()\n",
    "        print('clicked meeting ' + str(meeting-1))\n",
    "        \n",
    "        days = driver.find_elements_by_xpath(root_xpath + str(par) + ']/td[2]/table/tbody/tr[' +\n",
    "                                             str(term) + ']/td[2]/table/tbody/tr[' + \n",
    "                                             str(meeting) + ']/td[2]/table/tbody/tr')\n",
    "        print(len(days)-1)\n",
    "        total += len(days)-1\n",
    "\n",
    "print(total)"
   ]
  }
 ],
 "metadata": {
  "kernelspec": {
   "display_name": "Python 3",
   "language": "python",
   "name": "python3"
  },
  "language_info": {
   "codemirror_mode": {
    "name": "ipython",
    "version": 3
   },
   "file_extension": ".py",
   "mimetype": "text/x-python",
   "name": "python",
   "nbconvert_exporter": "python",
   "pygments_lexer": "ipython3",
   "version": "3.8.8"
  },
  "toc": {
   "base_numbering": 1,
   "nav_menu": {},
   "number_sections": true,
   "sideBar": true,
   "skip_h1_title": false,
   "title_cell": "Table of Contents",
   "title_sidebar": "Contents",
   "toc_cell": false,
   "toc_position": {},
   "toc_section_display": true,
   "toc_window_display": false
  }
 },
 "nbformat": 4,
 "nbformat_minor": 5
}
